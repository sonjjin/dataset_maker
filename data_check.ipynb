{
 "cells": [
  {
   "cell_type": "code",
   "execution_count": 2,
   "metadata": {},
   "outputs": [],
   "source": [
    "import os\n",
    "import json"
   ]
  },
  {
   "cell_type": "code",
   "execution_count": 6,
   "metadata": {},
   "outputs": [
    {
     "name": "stdout",
     "output_type": "stream",
     "text": [
      "61\n",
      "000714.png\n",
      "000721.png\n",
      "000720.png\n",
      "000707.png\n",
      "000713.png\n",
      "000716.png\n",
      "000724.png\n",
      "000720.png\n",
      "000720.png\n",
      "001101.png\n",
      "000563.png\n",
      "000745.png\n",
      "000605.png\n",
      "000714.png\n",
      "000710.png\n",
      "000720.png\n",
      "000434.png\n",
      "000714.png\n",
      "000721.png\n",
      "000718.png\n",
      "000727.png\n",
      "000722.png\n",
      "000722.png\n",
      "000723.png\n",
      "000583.png\n",
      "000723.png\n",
      "000723.png\n",
      "000722.png\n",
      "000722.png\n",
      "000722.png\n",
      "000719.png\n",
      "000727.png\n",
      "000723.png\n",
      "000711.png\n",
      "000719.png\n",
      "000720.png\n",
      "000720.png\n",
      "000720.png\n",
      "000586.png\n",
      "000718.png\n",
      "000725.png\n",
      "000724.png\n",
      "000547.png\n",
      "000713.png\n",
      "000715.png\n",
      "000715.png\n",
      "000726.png\n",
      "000713.png\n",
      "000722.png\n",
      "000723.png\n",
      "000722.png\n",
      "000722.png\n",
      "000720.png\n",
      "002270.png\n",
      "000047.png\n",
      "000711.png\n",
      "000720.png\n",
      "000720.png\n",
      "000722.png\n",
      "000691.png\n",
      "000018.png\n",
      "43438\n"
     ]
    }
   ],
   "source": [
    "data_folder = '/workspace/dataset/radiate'\n",
    "\n",
    "folders = os.listdir(data_folder)\n",
    "folders.sort()\n",
    "folder_gb = []\n",
    "folder_b = []\n",
    "folder_t = []\n",
    "print(len(folders))\n",
    "total_length = 0\n",
    "for idx, folder in enumerate(folders):\n",
    "    radar_folder = os.path.join(data_folder, folder, 'Navtech_Cartesian')\n",
    "    with open(os.path.join(data_folder, folder, 'meta.json')) as f:\n",
    "        meta = json.load(f)\n",
    "    # print(folder, meta[\"set\"])\n",
    "    # if meta[\"set\"] == train_mode:\n",
    "    #     folders.append(curr_dir)\n",
    "    # annotation_path = os.path.join(data_folder, folder, 'annotations', 'annotations.json')\n",
    "    # with open(annotation_path, 'r') as f_annotation:\n",
    "    #     annotation = json.load(f_annotation)\n",
    "\n",
    "    folder_number = idx\n",
    "    radar_files = os.listdir(radar_folder)\n",
    "    radar_files.sort()\n",
    "    print(radar_files[-1])\n",
    "    # print(folder, len(radar_files))\n",
    "    total_length += len(radar_files)\n",
    "    \n",
    "print(total_length)\n"
   ]
  },
  {
   "cell_type": "code",
   "execution_count": null,
   "metadata": {},
   "outputs": [],
   "source": []
  }
 ],
 "metadata": {
  "kernelspec": {
   "display_name": "base",
   "language": "python",
   "name": "python3"
  },
  "language_info": {
   "codemirror_mode": {
    "name": "ipython",
    "version": 3
   },
   "file_extension": ".py",
   "mimetype": "text/x-python",
   "name": "python",
   "nbconvert_exporter": "python",
   "pygments_lexer": "ipython3",
   "version": "3.7.16"
  },
  "orig_nbformat": 4
 },
 "nbformat": 4,
 "nbformat_minor": 2
}
