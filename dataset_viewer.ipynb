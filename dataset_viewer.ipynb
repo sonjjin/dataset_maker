{
 "cells": [
  {
   "cell_type": "code",
   "execution_count": 1,
   "metadata": {},
   "outputs": [
    {
     "name": "stderr",
     "output_type": "stream",
     "text": [
      "/opt/conda/lib/python3.7/site-packages/tqdm/auto.py:22: TqdmWarning: IProgress not found. Please update jupyter and ipywidgets. See https://ipywidgets.readthedocs.io/en/stable/user_install.html\n",
      "  from .autonotebook import tqdm as notebook_tqdm\n"
     ]
    }
   ],
   "source": [
    "from dataset_for_centercrop import Radiate_Dataset\n",
    "from PIL import Image\n",
    "import cv2\n",
    "import numpy as np\n",
    "import torch\n",
    "import argparse\n",
    "import os\n"
   ]
  },
  {
   "cell_type": "code",
   "execution_count": 3,
   "metadata": {},
   "outputs": [],
   "source": [
    "parser = argparse.ArgumentParser()\n",
    "parser.add_argument(\"--data_folder\", help=\"root folder with radiate dataset\", \n",
    "                    default='/workspace/dataset/radiate', type=str)\n",
    "\n",
    "parser.add_argument(\"--train_mode\", help=\"dataset mode ('train_good_weather', 'train_good_and_bad_weather', 'test')\",\n",
    "                    default='train_good_and_bad_weather', type=str)\n",
    "\n",
    "args = parser.parse_args(args=[])\n",
    "data_folder = args.data_folder\n",
    "train_mode = args.train_mode\n"
   ]
  },
  {
   "cell_type": "code",
   "execution_count": 4,
   "metadata": {},
   "outputs": [],
   "source": [
    "def gen_boundingbox(bbox, angle):\n",
    "    theta = np.deg2rad(-angle)\n",
    "    R = np.array([[np.cos(theta), -np.sin(theta)],\n",
    "                  [np.sin(theta), np.cos(theta)]])\n",
    "    \n",
    "    x1 = bbox[0] - bbox[2] / 2\n",
    "    y1 = bbox[1] - bbox[3] / 2\n",
    "    x2 = bbox[0] + bbox[2] / 2\n",
    "    y2 = bbox[1] + bbox[3] / 2\n",
    "    \n",
    "    points = np.array([[x1, y1],\n",
    "                       [x2, y1],\n",
    "                       [x2, y2],\n",
    "                       [x1, y2]]).T\n",
    "\n",
    "    cx = bbox[0]\n",
    "    cy = bbox[1]\n",
    "\n",
    "    T = np.array([[cx], [cy]])\n",
    "\n",
    "    points = points - T\n",
    "    points = np.matmul(R, points) + T\n",
    "    points = points.astype(float)\n",
    "    \n",
    "    return points"
   ]
  },
  {
   "cell_type": "code",
   "execution_count": 5,
   "metadata": {},
   "outputs": [
    {
     "ename": "FileNotFoundError",
     "evalue": "[Errno 2] No such file or directory: '/workspace/dataset/radiate_origin/train_good_and_bad_weather/images_radar'",
     "output_type": "error",
     "traceback": [
      "\u001b[0;31m---------------------------------------------------------------------------\u001b[0m",
      "\u001b[0;31mFileNotFoundError\u001b[0m                         Traceback (most recent call last)",
      "\u001b[0;32m/tmp/ipykernel_1418247/1894326017.py\u001b[0m in \u001b[0;36m<module>\u001b[0;34m\u001b[0m\n\u001b[1;32m      2\u001b[0m \u001b[0mroot_dir\u001b[0m \u001b[0;34m=\u001b[0m \u001b[0;34m'/workspace/dataset/radiate_origin'\u001b[0m\u001b[0;34m\u001b[0m\u001b[0;34m\u001b[0m\u001b[0m\n\u001b[1;32m      3\u001b[0m \u001b[0;31m# dataset = Radiate_Dataset(data_folder, train_mode, transform=True)\u001b[0m\u001b[0;34m\u001b[0m\u001b[0;34m\u001b[0m\u001b[0;34m\u001b[0m\u001b[0m\n\u001b[0;32m----> 4\u001b[0;31m \u001b[0mimg_list\u001b[0m \u001b[0;34m=\u001b[0m \u001b[0mos\u001b[0m\u001b[0;34m.\u001b[0m\u001b[0mlistdir\u001b[0m\u001b[0;34m(\u001b[0m\u001b[0mos\u001b[0m\u001b[0;34m.\u001b[0m\u001b[0mpath\u001b[0m\u001b[0;34m.\u001b[0m\u001b[0mjoin\u001b[0m\u001b[0;34m(\u001b[0m\u001b[0mroot_dir\u001b[0m\u001b[0;34m,\u001b[0m \u001b[0mtrain_mode\u001b[0m\u001b[0;34m,\u001b[0m \u001b[0;34m'images_radar'\u001b[0m\u001b[0;34m)\u001b[0m\u001b[0;34m)\u001b[0m\u001b[0;34m\u001b[0m\u001b[0;34m\u001b[0m\u001b[0m\n\u001b[0m\u001b[1;32m      5\u001b[0m \u001b[0mimg_list\u001b[0m\u001b[0;34m.\u001b[0m\u001b[0msort\u001b[0m\u001b[0;34m(\u001b[0m\u001b[0;34m)\u001b[0m\u001b[0;34m\u001b[0m\u001b[0;34m\u001b[0m\u001b[0m\n\u001b[1;32m      6\u001b[0m \u001b[0;31m# img_list = np.loadtxt(os.path.join(root_dir, train_mode, 'labels_with_object.txt'))\u001b[0m\u001b[0;34m\u001b[0m\u001b[0;34m\u001b[0m\u001b[0;34m\u001b[0m\u001b[0m\n",
      "\u001b[0;31mFileNotFoundError\u001b[0m: [Errno 2] No such file or directory: '/workspace/dataset/radiate_origin/train_good_and_bad_weather/images_radar'"
     ]
    }
   ],
   "source": [
    "train_mode = 'train_good_and_bad_weather'\n",
    "root_dir = '/workspace/dataset/radiate_origin'\n",
    "# dataset = Radiate_Dataset(data_folder, train_mode, transform=True)\n",
    "img_list = os.listdir(os.path.join(root_dir, train_mode, 'images_radar'))\n",
    "img_list.sort()\n",
    "# img_list = np.loadtxt(os.path.join(root_dir, train_mode, 'labels_with_object.txt'))\n",
    "# print(img_list[110])\n",
    "i = int(img_list[100][:-5])\n",
    "print(i)\n",
    "img_save = os.path.join(root_dir, train_mode, 'images_radar')\n",
    "label_save = os.path.join(root_dir, train_mode, 'labels')\n",
    "label_angle_save = os.path.join(root_dir, train_mode, 'labels_angle')\n",
    "label_OBB_save = os.path.join(root_dir, train_mode, 'labelTxt')\n",
    "img_info_save = os.path.join(root_dir, train_mode, 'img_info')\n",
    "\n",
    "img = cv2.imread(os.path.join(img_save, str(i).zfill(5)+'.png'))\n",
    "img2 = cv2.imread(os.path.join(img_save, str(i).zfill(5)+'.png'))\n",
    "\n",
    "labels = np.loadtxt(os.path.join(label_save, str(i).zfill(5)+'.txt'),dtype = np.float32)\n",
    "labels_angle = np.loadtxt(os.path.join(label_angle_save, str(i).zfill(5)+'.txt'),dtype = str)\n",
    "labels_OBB = np.loadtxt(os.path.join(label_OBB_save,str(i).zfill(5)+'.txt'), dtype=str)\n",
    "print(labels.shape)\n",
    "img = cv2.cvtColor(img, cv2.COLOR_BGR2RGB)\n",
    "img2 = cv2.cvtColor(img2, cv2.COLOR_BGR2RGB)\n",
    "\n",
    "# try:\n",
    "temp_OBB = labels_OBB[:,0:8]\n",
    "temp_angle = labels_angle[:,0:5]\n",
    "# print(temp_angle)\n",
    "bbox = temp_OBB.astype(np.float32)\n",
    "bbox = bbox.astype(np.int32)\n",
    "bbox_angle = temp_angle.astype(np.float32)\n",
    "for i, label in enumerate(labels):\n",
    "    x_min = label[1] - label[3] / 2\n",
    "    x_max = label[1] + label[3] / 2\n",
    "    y_min = label[2] - label[4] / 2\n",
    "    y_max = label[2] + label[4] / 2\n",
    "    cv2.line(img, (bbox[i][0], bbox[i][1]), (bbox[i][2], bbox[i][3]), (0,0,255), 2)\n",
    "    cv2.line(img, (bbox[i][2], bbox[i][3]), (bbox[i][4], bbox[i][5]), (0,0,255), 2)\n",
    "    cv2.line(img, (bbox[i][4], bbox[i][5]), (bbox[i][6], bbox[i][7]), (0,0,255), 2)\n",
    "    cv2.line(img, (bbox[i][6], bbox[i][7]), (bbox[i][0], bbox[i][1]), (0,0,255), 2)\n",
    "    x_min, y_min, x_max, y_max = np.int32(x_min), np.int32(y_min), np.int32(x_max), np.int32(y_max)\n",
    "    \n",
    "    points = gen_boundingbox(bbox_angle[i, 0:4], bbox_angle[i, 4])\n",
    "    points = points.astype(np.int32)\n",
    "    # print(points.shape)\n",
    "    cv2.line(img2, (points[0][0], points[1][0]), (points[0][1], points[1][1]), (0,255,0), 2)\n",
    "    cv2.line(img2, (points[0][1], points[1][1]), (points[0][2], points[1][2]), (0,255,0), 2)\n",
    "    cv2.line(img2, (points[0][2], points[1][2]), (points[0][3], points[1][3]), (0,255,0), 2)\n",
    "    cv2.line(img2, (points[0][3], points[1][3]), (points[0][0], points[1][0]), (0,255,0), 2)\n",
    "    print(bbox[i] == points.T.reshape(-1))\n",
    "    print(bbox[i])\n",
    "    print(points.T.reshape(-1))\n",
    "    \n",
    "    cv2.rectangle(img2, (x_min, y_min), (x_max, y_max), (255,0,0), 1)\n",
    "    \n",
    "img1_show = Image.fromarray(img)\n",
    "img2_show = Image.fromarray(img2)\n",
    "img1_show.show()\n",
    "img2_show.show()\n",
    "# except:\n",
    "#     if labels.shape[0] == 5:\n",
    "#         temp_OBB = labels_OBB[0:8]\n",
    "#         temp_angle = labels_angle[0:5]\n",
    "#         # print(temp_angle)\n",
    "#         bbox = temp_OBB.astype(np.float32)\n",
    "#         bbox = bbox.astype(np.int32)\n",
    "#         bbox_angle = temp_angle.astype(np.float32)\n",
    "#         x_min = labels[1] - labels[3] / 2\n",
    "#         x_max = labels[1] + labels[3] / 2\n",
    "#         y_min = labels[2] - labels[4] / 2\n",
    "#         y_max = labels[2] + labels[4] / 2\n",
    "#         cv2.line(img, (bbox[0], bbox[1]), (bbox[2], bbox[3]), (0,0,255), 2)\n",
    "#         cv2.line(img, (bbox[2], bbox[3]), (bbox[4], bbox[5]), (0,0,255), 2)\n",
    "#         cv2.line(img, (bbox[4], bbox[5]), (bbox[6], bbox[7]), (0,0,255), 2)\n",
    "#         cv2.line(img, (bbox[6], bbox[7]), (bbox[0], bbox[1]), (0,0,255), 2)\n",
    "#         x_min, y_min, x_max, y_max = np.int32(x_min), np.int32(y_min), np.int32(x_max), np.int32(y_max)\n",
    "       \n",
    "#         # points = gen_boundingbox(bbox_angle[i, 0:4], bbox_angle[i, 4])\n",
    "#         # points = points.astype(np.int32)\n",
    "#         # # print(points.shape)\n",
    "#         # cv2.line(img2, (points[0][0], points[1][0]), (points[0][1], points[1][1]), (0,255,0), 2)\n",
    "#         # cv2.line(img2, (points[0][1], points[1][1]), (points[0][2], points[1][2]), (0,255,0), 2)\n",
    "#         # cv2.line(img2, (points[0][2], points[1][2]), (points[0][3], points[1][3]), (0,255,0), 2)\n",
    "#         # cv2.line(img2, (points[0][3], points[1][3]), (points[0][0], points[1][0]), (0,255,0), 2)\n",
    "#         # print(bbox[i] == points.T.reshape(-1))\n",
    "#         # print(bbox[i])\n",
    "#         # print(points.T.reshape(-1))\n",
    "        \n",
    "#         cv2.rectangle(img2, (x_min, y_min), (x_max, y_max), (255,0,0), 1)\n",
    "        \n",
    "#     img1_show = Image.fromarray(img)\n",
    "#     img2_show = Image.fromarray(img2)\n",
    "#     img1_show.show()\n",
    "#     img2_show.show()"
   ]
  },
  {
   "cell_type": "code",
   "execution_count": 10,
   "metadata": {},
   "outputs": [
    {
     "name": "stdout",
     "output_type": "stream",
     "text": [
      "11307\n"
     ]
    }
   ],
   "source": [
    "train_mode = 'test'\n",
    "root_dir = '/workspace/dataset/radiate_centercrop'\n",
    "\n",
    "img_root = os.path.join(root_dir, train_mode, 'images')\n",
    "img_list = os.listdir(img_root)\n",
    "img_list.sort()\n",
    "print(len(img_list))"
   ]
  },
  {
   "cell_type": "code",
   "execution_count": null,
   "metadata": {},
   "outputs": [],
   "source": []
  }
 ],
 "metadata": {
  "kernelspec": {
   "display_name": "base",
   "language": "python",
   "name": "python3"
  },
  "language_info": {
   "codemirror_mode": {
    "name": "ipython",
    "version": 3
   },
   "file_extension": ".py",
   "mimetype": "text/x-python",
   "name": "python",
   "nbconvert_exporter": "python",
   "pygments_lexer": "ipython3",
   "version": "3.7.16"
  },
  "orig_nbformat": 4,
  "vscode": {
   "interpreter": {
    "hash": "d4d1e4263499bec80672ea0156c357c1ee493ec2b1c70f0acce89fc37c4a6abe"
   }
  }
 },
 "nbformat": 4,
 "nbformat_minor": 2
}
